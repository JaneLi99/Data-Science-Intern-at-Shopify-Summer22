{
 "cells": [
  {
   "cell_type": "code",
   "execution_count": 58,
   "id": "6188cfca",
   "metadata": {},
   "outputs": [],
   "source": [
    "# Jiaming Li\n",
    "# Data Science Intern Summer 2022\n",
    "# Shopify, CA\n",
    "\n",
    "import numpy as np\n",
    "import csv\n"
   ]
  },
  {
   "cell_type": "code",
   "execution_count": 59,
   "id": "d17e4768",
   "metadata": {},
   "outputs": [
    {
     "name": "stdout",
     "output_type": "stream",
     "text": [
      "15725640\n",
      "43936\n",
      "3145.128\n"
     ]
    }
   ],
   "source": [
    "with open(\"Dataset.csv\", \"r\") as f:\n",
    "    reader = csv.reader(f)\n",
    "    order_amount = []\n",
    "    total_items = []\n",
    "    for e in reader:\n",
    "        order_amount.append(e[3].strip().split(\",\"))\n",
    "        total_items.append(e[4].strip().split(\",\"))\n",
    "    \n",
    "    order_amount_list = []\n",
    "    total_items_list = []\n",
    "    order_amount_list.extend([x[0] for x in order_amount])\n",
    "    total_items_list.extend([x[0] for x in total_items])\n",
    "    order_amount_list.remove(\"order_amount\")\n",
    "    total_items_list.remove(\"total_items\")\n",
    "    order_amount_list = [int(i) for i in order_amount_list]\n",
    "    total_items_list = [int(i) for i in total_items_list]\n",
    "    \n",
    "    order_amount_value = np.sum(order_amount_list)\n",
    "    total_items_num = np.sum(total_items_list)\n",
    "    print(order_amount_value)\n",
    "    print(total_items_num)\n",
    "    print(order_amount_value /len(total_items_list))"
   ]
  },
  {
   "cell_type": "code",
   "execution_count": 60,
   "id": "d9d31976",
   "metadata": {},
   "outputs": [
    {
     "data": {
      "image/png": "[encoded data removed]",
      "text/plain": [
       "<Figure size 432x288 with 1 Axes>"
      ]
     },
     "metadata": {
      "needs_background": "light"
     },
     "output_type": "display_data"
    },
    {
     "name": "stdout",
     "output_type": "stream",
     "text": [
      "Before removing the max amount, the median of order amount is  284.0\n",
      "Before removing the max amount, the mean of order amount per item is  357.92152221412965\n",
      "Before removing the max amount, the mode of order amount is  153\n"
     ]
    }
   ],
   "source": [
    "import matplotlib.pyplot as plt\n",
    "\n",
    "plt.boxplot(order_amount_list)\n",
    "plt.show()\n",
    "\n",
    "print('Before removing the max amount, the median of order amount is ', np.median(order_amount_list))\n",
    "print('Before removing the max amount, the mean of order amount per item is ', \n",
    "      np.sum(order_amount_list) / total_items_num)\n",
    "\n",
    "from collections import Counter\n",
    "counts = np.bincount(order_amount_list)\n",
    "print('Before removing the max amount, the mode of order amount is ', np.argmax(counts))"
   ]
  },
  {
   "cell_type": "code",
   "execution_count": 63,
   "id": "a5243c4f",
   "metadata": {},
   "outputs": [
    {
     "data": {
      "image/png": "[encoded data removed]",
      "text/plain": [
       "<Figure size 432x288 with 1 Axes>"
      ]
     },
     "metadata": {
      "needs_background": "light"
     },
     "output_type": "display_data"
    },
    {
     "name": "stdout",
     "output_type": "stream",
     "text": [
      "After removing the max amount, the median of order amount is  284.0\n",
      "Before removing the max amount, the mean of order amount per item is  85.52530954115076\n",
      "Before removing the max amount, the mode of order amount is  153\n"
     ]
    }
   ],
   "source": [
    "for i in range(len(order_amount_list)):\n",
    "    if order_amount_list[i] == 704000:\n",
    "        order_amount_list.remove(704000)\n",
    "# print(order_amount_list)\n",
    "\n",
    "import matplotlib.pyplot as plt\n",
    "\n",
    "plt.boxplot(order_amount_list)\n",
    "plt.show()\n",
    "\n",
    "print('After removing the max amount, the median of order amount is ', np.median(order_amount_list))\n",
    "print('Before removing the max amount, the mean of order amount per item is ', \n",
    "      np.sum(order_amount_list) / total_items_num)\n",
    "\n",
    "from collections import Counter\n",
    "counts = np.bincount(order_amount_list)\n",
    "print('Before removing the max amount, the mode of order amount is ', np.argmax(counts))"
   ]
  },
  {
   "cell_type": "code",
   "execution_count": null,
   "id": "4a13b10f",
   "metadata": {},
   "outputs": [],
   "source": []
  }
 ],
 "metadata": {
  "kernelspec": {
   "display_name": "Python 3 (ipykernel)",
   "language": "python",
   "name": "python3"
  },
  "language_info": {
   "codemirror_mode": {
    "name": "ipython",
    "version": 3
   },
   "file_extension": ".py",
   "mimetype": "text/x-python",
   "name": "python",
   "nbconvert_exporter": "python",
   "pygments_lexer": "ipython3",
   "version": "3.9.7"
  }
 },
 "nbformat": 4,
 "nbformat_minor": 5
}
